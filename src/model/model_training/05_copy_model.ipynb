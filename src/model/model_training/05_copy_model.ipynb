{
 "cells": [
  {
   "cell_type": "markdown",
   "id": "fcf52852-ab63-4ff9-ba59-34b246b9837b",
   "metadata": {},
   "source": [
    "# Copy Model\n",
    "## 1. Imports"
   ]
  },
  {
   "cell_type": "code",
   "execution_count": 1,
   "id": "06f31ddc-66fb-4eb1-9df8-7791c2e46bb0",
   "metadata": {},
   "outputs": [],
   "source": [
    "import shutil\n",
    "import sys\n",
    "from pathlib import Path\n",
    "\n",
    "project_path = \"C:/local/ModelToProd\"\n",
    "sys.path.append(project_path)\n",
    "\n",
    "import src.utils as ut"
   ]
  },
  {
   "cell_type": "markdown",
   "id": "6b42cc8c-9886-4dd9-a9f6-c0c9bcd3329c",
   "metadata": {},
   "source": [
    "## 2. Copy Model to the Destination Folder"
   ]
  },
  {
   "cell_type": "code",
   "execution_count": 2,
   "id": "b8cc871e-8f4e-47ce-b9a0-85145d872124",
   "metadata": {},
   "outputs": [],
   "source": [
    "# load configuration to determine model destination\n",
    "config = ut.load_app_config()"
   ]
  },
  {
   "cell_type": "code",
   "execution_count": 3,
   "id": "a1c33675-8282-417d-958e-6a0ecaba29ae",
   "metadata": {},
   "outputs": [
    {
     "name": "stdout",
     "output_type": "stream",
     "text": [
      "Copied model to C:\\local\\ModelToProd\\model\\trained_enet_0.onnx\n"
     ]
    }
   ],
   "source": [
    "# define the filename, the source folder and the target folder\n",
    "filename = \"trained_enet_0.onnx\"\n",
    "model_source = Path(\"trained_models\") / filename\n",
    "model_destination = Path(config[\"model_path\"])\n",
    "\n",
    "# make the folder if it does not yet exist\n",
    "model_destination.parent.mkdir(exist_ok=True)\n",
    "\n",
    "# copy the model to the target folder\n",
    "shutil.copy(model_source, model_destination)\n",
    "print(f\"Copied model to {model_destination}\")"
   ]
  },
  {
   "cell_type": "code",
   "execution_count": null,
   "id": "75da4a03-0081-454f-9ee5-587c5b50d0c2",
   "metadata": {},
   "outputs": [],
   "source": []
  }
 ],
 "metadata": {
  "kernelspec": {
   "display_name": "Python 3 (ipykernel)",
   "language": "python",
   "name": "python3"
  },
  "language_info": {
   "codemirror_mode": {
    "name": "ipython",
    "version": 3
   },
   "file_extension": ".py",
   "mimetype": "text/x-python",
   "name": "python",
   "nbconvert_exporter": "python",
   "pygments_lexer": "ipython3",
   "version": "3.12.3"
  }
 },
 "nbformat": 4,
 "nbformat_minor": 5
}
