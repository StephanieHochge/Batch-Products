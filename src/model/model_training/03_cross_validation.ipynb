{
 "cells": [
  {
   "cell_type": "markdown",
   "id": "c5e7e82c-4db9-49d3-b993-4fe3c412bb05",
   "metadata": {},
   "source": [
    "# Validate Results\n",
    "The aim of this notebook is to test whether the results of the hyperparameter tuning can be generalized to different train-test splits. For this purpose, 5-fold cross-validation is used (Goodfellow et al., 2016, p. 122). \n",
    "## 1. Imports"
   ]
  },
  {
   "cell_type": "code",
   "execution_count": 1,
   "id": "f148a2d9-df05-4733-8839-93ac35d4e7ec",
   "metadata": {},
   "outputs": [],
   "source": [
    "from sklearn.model_selection import train_test_split\n",
    "import torch\n",
    "\n",
    "from utils.train import set_global_seed, train_cross_validation"
   ]
  },
  {
   "cell_type": "markdown",
   "id": "ec3cd241-0d56-4b64-b082-7f70301fdbeb",
   "metadata": {},
   "source": [
    "## 2. Load Training Data"
   ]
  },
  {
   "cell_type": "code",
   "execution_count": 2,
   "id": "77c7b3bc-9dbf-443c-b423-7ba3221b8378",
   "metadata": {},
   "outputs": [],
   "source": [
    "# set a global seed\n",
    "SEED = 42\n",
    "set_global_seed(SEED)"
   ]
  },
  {
   "cell_type": "code",
   "execution_count": 3,
   "id": "99490c5b-04d2-4f29-b9c4-bac9b2d5fb85",
   "metadata": {},
   "outputs": [
    {
     "name": "stdout",
     "output_type": "stream",
     "text": [
      "CPU times: total: 32 s\n",
      "Wall time: 35.9 s\n"
     ]
    }
   ],
   "source": [
    "%%time\n",
    "# load data and labels\n",
    "data, labels = torch.load(\"data/fashion_mnist_dataset.pt\", weights_only=False)"
   ]
  },
  {
   "cell_type": "code",
   "execution_count": 4,
   "id": "0700e910-2db1-4d3b-9034-3feb29cc0408",
   "metadata": {},
   "outputs": [
    {
     "name": "stdout",
     "output_type": "stream",
     "text": [
      "size of the training set: 57000\n",
      "CPU times: total: 46.9 ms\n",
      "Wall time: 48.2 ms\n"
     ]
    }
   ],
   "source": [
    "%%time\n",
    "# split the training set to be able to use some of the data for later image ingestion\n",
    "train_data, later_data, train_labels, later_labels = train_test_split(\n",
    "    data, labels, test_size=0.05, stratify=labels, random_state=42\n",
    ")  \n",
    "\n",
    "print(f\"size of the training set: {len(train_data)}\")"
   ]
  },
  {
   "cell_type": "markdown",
   "id": "f8e961ea-fce0-402e-813a-82c2b351024b",
   "metadata": {},
   "source": [
    "## 3. 5-Fold Cross-Validation"
   ]
  },
  {
   "cell_type": "code",
   "execution_count": 5,
   "id": "09004046-df0d-470b-994c-61fdf5725ad6",
   "metadata": {},
   "outputs": [
    {
     "name": "stdout",
     "output_type": "stream",
     "text": [
      "cuda\n"
     ]
    }
   ],
   "source": [
    "# setup device-agnostic code\n",
    "device = torch.device(\"cuda\" if torch.cuda.is_available() else \"cpu\")\n",
    "print(device)"
   ]
  },
  {
   "cell_type": "code",
   "execution_count": 6,
   "id": "9b178f27-d4f2-4beb-9c0f-19fbb49340b1",
   "metadata": {},
   "outputs": [
    {
     "name": "stdout",
     "output_type": "stream",
     "text": [
      "-----------------------------------\n",
      "Training using config: {'batch_size': 32, 'dropout': 0.5, 'epochs': 13, 'learning_rate': 0.001, 'freeze': False}\n",
      "--------------Fold 1----------------\n"
     ]
    },
    {
     "data": {
      "application/vnd.jupyter.widget-view+json": {
       "model_id": "0a183d51ad6c449d94c76bf9399585a7",
       "version_major": 2,
       "version_minor": 0
      },
      "text/plain": [
       "  0%|          | 0/13 [00:00<?, ?it/s]"
      ]
     },
     "metadata": {},
     "output_type": "display_data"
    },
    {
     "name": "stdout",
     "output_type": "stream",
     "text": [
      "Epoch 1: Train Loss=0.5664, Train Acc=0.7944, Train F1=0.7919,Train Precision=0.7911, Train Recall=0.7944\n",
      "           Val Loss=0.3592, Val Acc=0.8714, Val F1=0.8618, Val Precision=0.8821, Val Recall=0.8714\n",
      "Epoch 2: Train Loss=0.3309, Train Acc=0.8811, Train F1=0.8804,Train Precision=0.8800, Train Recall=0.8811\n",
      "           Val Loss=0.2589, Val Acc=0.9045, Val F1=0.9042, Val Precision=0.9052, Val Recall=0.9045\n",
      "Epoch 3: Train Loss=0.2776, Train Acc=0.9016, Train F1=0.9013,Train Precision=0.9011, Train Recall=0.9016\n",
      "           Val Loss=0.2348, Val Acc=0.9146, Val F1=0.9143, Val Precision=0.9163, Val Recall=0.9146\n",
      "Epoch 4: Train Loss=0.2487, Train Acc=0.9098, Train F1=0.9094,Train Precision=0.9092, Train Recall=0.9098\n",
      "           Val Loss=0.2233, Val Acc=0.9216, Val F1=0.9216, Val Precision=0.9222, Val Recall=0.9216\n",
      "Epoch 5: Train Loss=0.2224, Train Acc=0.9196, Train F1=0.9194,Train Precision=0.9192, Train Recall=0.9196\n",
      "           Val Loss=0.2123, Val Acc=0.9275, Val F1=0.9275, Val Precision=0.9279, Val Recall=0.9275\n",
      "Epoch 6: Train Loss=0.2004, Train Acc=0.9280, Train F1=0.9279,Train Precision=0.9278, Train Recall=0.9280\n",
      "           Val Loss=0.2126, Val Acc=0.9226, Val F1=0.9211, Val Precision=0.9234, Val Recall=0.9226\n",
      "Epoch 7: Train Loss=0.1815, Train Acc=0.9336, Train F1=0.9335,Train Precision=0.9334, Train Recall=0.9336\n",
      "           Val Loss=0.2218, Val Acc=0.9232, Val F1=0.9224, Val Precision=0.9254, Val Recall=0.9232\n",
      "Epoch 8: Train Loss=0.1635, Train Acc=0.9417, Train F1=0.9415,Train Precision=0.9415, Train Recall=0.9417\n",
      "           Val Loss=0.2022, Val Acc=0.9290, Val F1=0.9294, Val Precision=0.9309, Val Recall=0.9290\n",
      "Epoch 9: Train Loss=0.1462, Train Acc=0.9470, Train F1=0.9468,Train Precision=0.9468, Train Recall=0.9470\n",
      "           Val Loss=0.1989, Val Acc=0.9305, Val F1=0.9299, Val Precision=0.9315, Val Recall=0.9305\n",
      "Epoch 10: Train Loss=0.1355, Train Acc=0.9512, Train F1=0.9511,Train Precision=0.9511, Train Recall=0.9512\n",
      "           Val Loss=0.1941, Val Acc=0.9350, Val F1=0.9344, Val Precision=0.9351, Val Recall=0.9350\n",
      "Epoch 11: Train Loss=0.1184, Train Acc=0.9575, Train F1=0.9575,Train Precision=0.9574, Train Recall=0.9575\n",
      "           Val Loss=0.2006, Val Acc=0.9342, Val F1=0.9337, Val Precision=0.9342, Val Recall=0.9342\n",
      "Epoch 12: Train Loss=0.1056, Train Acc=0.9618, Train F1=0.9618,Train Precision=0.9617, Train Recall=0.9618\n",
      "           Val Loss=0.2145, Val Acc=0.9328, Val F1=0.9328, Val Precision=0.9335, Val Recall=0.9328\n",
      "Epoch 13: Train Loss=0.0945, Train Acc=0.9655, Train F1=0.9655,Train Precision=0.9655, Train Recall=0.9655\n",
      "           Val Loss=0.2199, Val Acc=0.9323, Val F1=0.9329, Val Precision=0.9357, Val Recall=0.9323\n",
      "Trained the model for one fold.\n",
      "Accuracy: 0.9322807017543859, F1 Score: 0.9328906813923722, Precision: 0.9356678176365131, Recall: 0.9322807017543859\n",
      "--------------Fold 2----------------\n"
     ]
    },
    {
     "data": {
      "application/vnd.jupyter.widget-view+json": {
       "model_id": "a55eb959e34d4af5a382304ba8ccb460",
       "version_major": 2,
       "version_minor": 0
      },
      "text/plain": [
       "  0%|          | 0/13 [00:00<?, ?it/s]"
      ]
     },
     "metadata": {},
     "output_type": "display_data"
    },
    {
     "name": "stdout",
     "output_type": "stream",
     "text": [
      "Epoch 1: Train Loss=0.5972, Train Acc=0.7807, Train F1=0.7785,Train Precision=0.7778, Train Recall=0.7807\n",
      "           Val Loss=0.4109, Val Acc=0.8528, Val F1=0.8467, Val Precision=0.8682, Val Recall=0.8528\n",
      "Epoch 2: Train Loss=0.3337, Train Acc=0.8818, Train F1=0.8811,Train Precision=0.8808, Train Recall=0.8818\n",
      "           Val Loss=0.2781, Val Acc=0.9036, Val F1=0.9029, Val Precision=0.9059, Val Recall=0.9036\n",
      "Epoch 3: Train Loss=0.2752, Train Acc=0.9018, Train F1=0.9014,Train Precision=0.9012, Train Recall=0.9018\n",
      "           Val Loss=0.2335, Val Acc=0.9149, Val F1=0.9161, Val Precision=0.9186, Val Recall=0.9149\n",
      "Epoch 4: Train Loss=0.2395, Train Acc=0.9138, Train F1=0.9136,Train Precision=0.9135, Train Recall=0.9138\n",
      "           Val Loss=0.2286, Val Acc=0.9232, Val F1=0.9217, Val Precision=0.9245, Val Recall=0.9232\n",
      "Epoch 5: Train Loss=0.2219, Train Acc=0.9216, Train F1=0.9213,Train Precision=0.9212, Train Recall=0.9216\n",
      "           Val Loss=0.2101, Val Acc=0.9285, Val F1=0.9285, Val Precision=0.9295, Val Recall=0.9285\n",
      "Epoch 6: Train Loss=0.1991, Train Acc=0.9295, Train F1=0.9293,Train Precision=0.9292, Train Recall=0.9295\n",
      "           Val Loss=0.2035, Val Acc=0.9271, Val F1=0.9279, Val Precision=0.9315, Val Recall=0.9271\n",
      "Epoch 7: Train Loss=0.1784, Train Acc=0.9365, Train F1=0.9364,Train Precision=0.9363, Train Recall=0.9365\n",
      "           Val Loss=0.2072, Val Acc=0.9279, Val F1=0.9274, Val Precision=0.9285, Val Recall=0.9279\n",
      "Epoch 8: Train Loss=0.1626, Train Acc=0.9422, Train F1=0.9421,Train Precision=0.9421, Train Recall=0.9422\n",
      "           Val Loss=0.2089, Val Acc=0.9304, Val F1=0.9302, Val Precision=0.9321, Val Recall=0.9304\n",
      "Epoch 9: Train Loss=0.1494, Train Acc=0.9459, Train F1=0.9458,Train Precision=0.9458, Train Recall=0.9459\n",
      "           Val Loss=0.1914, Val Acc=0.9376, Val F1=0.9377, Val Precision=0.9380, Val Recall=0.9376\n",
      "Epoch 10: Train Loss=0.1273, Train Acc=0.9541, Train F1=0.9541,Train Precision=0.9540, Train Recall=0.9541\n",
      "           Val Loss=0.1926, Val Acc=0.9377, Val F1=0.9375, Val Precision=0.9375, Val Recall=0.9377\n",
      "Epoch 11: Train Loss=0.1182, Train Acc=0.9580, Train F1=0.9579,Train Precision=0.9578, Train Recall=0.9580\n",
      "           Val Loss=0.1924, Val Acc=0.9369, Val F1=0.9366, Val Precision=0.9369, Val Recall=0.9369\n",
      "Epoch 12: Train Loss=0.1015, Train Acc=0.9640, Train F1=0.9640,Train Precision=0.9640, Train Recall=0.9640\n",
      "           Val Loss=0.2298, Val Acc=0.9311, Val F1=0.9304, Val Precision=0.9316, Val Recall=0.9311\n",
      "Epoch 13: Train Loss=0.0904, Train Acc=0.9668, Train F1=0.9667,Train Precision=0.9667, Train Recall=0.9668\n",
      "           Val Loss=0.2122, Val Acc=0.9384, Val F1=0.9382, Val Precision=0.9382, Val Recall=0.9384\n",
      "Trained the model for one fold.\n",
      "Accuracy: 0.9384210526315789, F1 Score: 0.9381637389203303, Precision: 0.938196099812651, Recall: 0.9384210526315789\n",
      "--------------Fold 3----------------\n"
     ]
    },
    {
     "data": {
      "application/vnd.jupyter.widget-view+json": {
       "model_id": "be27b22693b241ffb592aa5c08515bf3",
       "version_major": 2,
       "version_minor": 0
      },
      "text/plain": [
       "  0%|          | 0/13 [00:00<?, ?it/s]"
      ]
     },
     "metadata": {},
     "output_type": "display_data"
    },
    {
     "name": "stdout",
     "output_type": "stream",
     "text": [
      "Epoch 1: Train Loss=0.5822, Train Acc=0.7898, Train F1=0.7874,Train Precision=0.7863, Train Recall=0.7898\n",
      "           Val Loss=0.3437, Val Acc=0.8796, Val F1=0.8775, Val Precision=0.8813, Val Recall=0.8796\n",
      "Epoch 2: Train Loss=0.3242, Train Acc=0.8837, Train F1=0.8831,Train Precision=0.8828, Train Recall=0.8837\n",
      "           Val Loss=0.2523, Val Acc=0.9087, Val F1=0.9083, Val Precision=0.9091, Val Recall=0.9087\n",
      "Epoch 3: Train Loss=0.2738, Train Acc=0.9039, Train F1=0.9035,Train Precision=0.9034, Train Recall=0.9039\n",
      "           Val Loss=0.2383, Val Acc=0.9148, Val F1=0.9149, Val Precision=0.9177, Val Recall=0.9148\n",
      "Epoch 4: Train Loss=0.2384, Train Acc=0.9162, Train F1=0.9159,Train Precision=0.9157, Train Recall=0.9162\n",
      "           Val Loss=0.2156, Val Acc=0.9216, Val F1=0.9215, Val Precision=0.9215, Val Recall=0.9216\n",
      "Epoch 5: Train Loss=0.2186, Train Acc=0.9217, Train F1=0.9215,Train Precision=0.9214, Train Recall=0.9217\n",
      "           Val Loss=0.2150, Val Acc=0.9254, Val F1=0.9253, Val Precision=0.9262, Val Recall=0.9254\n",
      "Epoch 6: Train Loss=0.1937, Train Acc=0.9304, Train F1=0.9302,Train Precision=0.9301, Train Recall=0.9304\n",
      "           Val Loss=0.1891, Val Acc=0.9315, Val F1=0.9309, Val Precision=0.9316, Val Recall=0.9315\n",
      "Epoch 7: Train Loss=0.1774, Train Acc=0.9358, Train F1=0.9357,Train Precision=0.9356, Train Recall=0.9358\n",
      "           Val Loss=0.1883, Val Acc=0.9332, Val F1=0.9330, Val Precision=0.9337, Val Recall=0.9332\n",
      "Epoch 8: Train Loss=0.1635, Train Acc=0.9420, Train F1=0.9418,Train Precision=0.9417, Train Recall=0.9420\n",
      "           Val Loss=0.1761, Val Acc=0.9370, Val F1=0.9366, Val Precision=0.9370, Val Recall=0.9370\n",
      "Epoch 9: Train Loss=0.1448, Train Acc=0.9479, Train F1=0.9479,Train Precision=0.9478, Train Recall=0.9479\n",
      "           Val Loss=0.1947, Val Acc=0.9341, Val F1=0.9337, Val Precision=0.9344, Val Recall=0.9341\n",
      "Epoch 10: Train Loss=0.1297, Train Acc=0.9527, Train F1=0.9526,Train Precision=0.9525, Train Recall=0.9527\n",
      "           Val Loss=0.1985, Val Acc=0.9318, Val F1=0.9315, Val Precision=0.9318, Val Recall=0.9318\n",
      "Epoch 11: Train Loss=0.1179, Train Acc=0.9570, Train F1=0.9569,Train Precision=0.9569, Train Recall=0.9570\n",
      "           Val Loss=0.2038, Val Acc=0.9386, Val F1=0.9382, Val Precision=0.9382, Val Recall=0.9386\n",
      "Epoch 12: Train Loss=0.1036, Train Acc=0.9636, Train F1=0.9635,Train Precision=0.9635, Train Recall=0.9636\n",
      "           Val Loss=0.1944, Val Acc=0.9386, Val F1=0.9383, Val Precision=0.9392, Val Recall=0.9386\n",
      "Epoch 13: Train Loss=0.0922, Train Acc=0.9666, Train F1=0.9665,Train Precision=0.9665, Train Recall=0.9666\n",
      "           Val Loss=0.1965, Val Acc=0.9389, Val F1=0.9386, Val Precision=0.9389, Val Recall=0.9389\n",
      "Trained the model for one fold.\n",
      "Accuracy: 0.9389473684210526, F1 Score: 0.9386295674696141, Precision: 0.9389448183989123, Recall: 0.9389473684210526\n",
      "--------------Fold 4----------------\n"
     ]
    },
    {
     "data": {
      "application/vnd.jupyter.widget-view+json": {
       "model_id": "13193c6ccdfc4ef890d703ae16e75728",
       "version_major": 2,
       "version_minor": 0
      },
      "text/plain": [
       "  0%|          | 0/13 [00:00<?, ?it/s]"
      ]
     },
     "metadata": {},
     "output_type": "display_data"
    },
    {
     "name": "stdout",
     "output_type": "stream",
     "text": [
      "Epoch 1: Train Loss=0.5961, Train Acc=0.7834, Train F1=0.7800,Train Precision=0.7787, Train Recall=0.7834\n",
      "           Val Loss=0.3194, Val Acc=0.8860, Val F1=0.8845, Val Precision=0.8852, Val Recall=0.8860\n",
      "Epoch 2: Train Loss=0.3287, Train Acc=0.8835, Train F1=0.8829,Train Precision=0.8825, Train Recall=0.8835\n",
      "           Val Loss=0.2922, Val Acc=0.8939, Val F1=0.8935, Val Precision=0.8951, Val Recall=0.8939\n",
      "Epoch 3: Train Loss=0.2715, Train Acc=0.9038, Train F1=0.9034,Train Precision=0.9033, Train Recall=0.9038\n",
      "           Val Loss=0.2630, Val Acc=0.9031, Val F1=0.8996, Val Precision=0.9042, Val Recall=0.9031\n",
      "Epoch 4: Train Loss=0.2408, Train Acc=0.9148, Train F1=0.9144,Train Precision=0.9143, Train Recall=0.9148\n",
      "           Val Loss=0.2363, Val Acc=0.9180, Val F1=0.9180, Val Precision=0.9195, Val Recall=0.9180\n",
      "Epoch 5: Train Loss=0.2156, Train Acc=0.9230, Train F1=0.9227,Train Precision=0.9226, Train Recall=0.9230\n",
      "           Val Loss=0.2068, Val Acc=0.9253, Val F1=0.9249, Val Precision=0.9253, Val Recall=0.9253\n",
      "Epoch 6: Train Loss=0.1956, Train Acc=0.9314, Train F1=0.9312,Train Precision=0.9311, Train Recall=0.9314\n",
      "           Val Loss=0.2059, Val Acc=0.9238, Val F1=0.9230, Val Precision=0.9255, Val Recall=0.9238\n",
      "Epoch 7: Train Loss=0.1764, Train Acc=0.9365, Train F1=0.9364,Train Precision=0.9363, Train Recall=0.9365\n",
      "           Val Loss=0.2101, Val Acc=0.9268, Val F1=0.9262, Val Precision=0.9270, Val Recall=0.9268\n",
      "Epoch 8: Train Loss=0.1630, Train Acc=0.9427, Train F1=0.9426,Train Precision=0.9425, Train Recall=0.9427\n",
      "           Val Loss=0.2028, Val Acc=0.9279, Val F1=0.9277, Val Precision=0.9282, Val Recall=0.9279\n",
      "Epoch 9: Train Loss=0.1449, Train Acc=0.9484, Train F1=0.9483,Train Precision=0.9482, Train Recall=0.9484\n",
      "           Val Loss=0.1943, Val Acc=0.9326, Val F1=0.9319, Val Precision=0.9318, Val Recall=0.9326\n",
      "Epoch 10: Train Loss=0.1280, Train Acc=0.9542, Train F1=0.9542,Train Precision=0.9541, Train Recall=0.9542\n",
      "           Val Loss=0.2035, Val Acc=0.9335, Val F1=0.9331, Val Precision=0.9332, Val Recall=0.9335\n",
      "Epoch 11: Train Loss=0.1149, Train Acc=0.9594, Train F1=0.9594,Train Precision=0.9593, Train Recall=0.9594\n",
      "           Val Loss=0.2090, Val Acc=0.9299, Val F1=0.9300, Val Precision=0.9309, Val Recall=0.9299\n",
      "Epoch 12: Train Loss=0.1036, Train Acc=0.9625, Train F1=0.9624,Train Precision=0.9624, Train Recall=0.9625\n",
      "           Val Loss=0.2165, Val Acc=0.9342, Val F1=0.9339, Val Precision=0.9344, Val Recall=0.9342\n",
      "Epoch 13: Train Loss=0.0903, Train Acc=0.9660, Train F1=0.9659,Train Precision=0.9659, Train Recall=0.9660\n",
      "           Val Loss=0.2537, Val Acc=0.9272, Val F1=0.9273, Val Precision=0.9307, Val Recall=0.9272\n",
      "Trained the model for one fold.\n",
      "Accuracy: 0.9271929824561403, F1 Score: 0.9273449584091491, Precision: 0.9307138972754101, Recall: 0.9271929824561403\n",
      "--------------Fold 5----------------\n"
     ]
    },
    {
     "data": {
      "application/vnd.jupyter.widget-view+json": {
       "model_id": "0a551bcb934744e5aba6b406f7c08649",
       "version_major": 2,
       "version_minor": 0
      },
      "text/plain": [
       "  0%|          | 0/13 [00:00<?, ?it/s]"
      ]
     },
     "metadata": {},
     "output_type": "display_data"
    },
    {
     "name": "stdout",
     "output_type": "stream",
     "text": [
      "Epoch 1: Train Loss=0.5816, Train Acc=0.7866, Train F1=0.7841,Train Precision=0.7833, Train Recall=0.7866\n",
      "           Val Loss=0.3531, Val Acc=0.8654, Val F1=0.8669, Val Precision=0.8742, Val Recall=0.8654\n",
      "Epoch 2: Train Loss=0.3220, Train Acc=0.8850, Train F1=0.8844,Train Precision=0.8840, Train Recall=0.8850\n",
      "           Val Loss=0.2825, Val Acc=0.8977, Val F1=0.8978, Val Precision=0.9009, Val Recall=0.8977\n",
      "Epoch 3: Train Loss=0.2727, Train Acc=0.9027, Train F1=0.9023,Train Precision=0.9021, Train Recall=0.9027\n",
      "           Val Loss=0.2499, Val Acc=0.9123, Val F1=0.9121, Val Precision=0.9144, Val Recall=0.9123\n",
      "Epoch 4: Train Loss=0.2361, Train Acc=0.9158, Train F1=0.9155,Train Precision=0.9153, Train Recall=0.9158\n",
      "           Val Loss=0.2263, Val Acc=0.9200, Val F1=0.9212, Val Precision=0.9247, Val Recall=0.9200\n",
      "Epoch 5: Train Loss=0.2162, Train Acc=0.9226, Train F1=0.9224,Train Precision=0.9223, Train Recall=0.9226\n",
      "           Val Loss=0.1987, Val Acc=0.9275, Val F1=0.9283, Val Precision=0.9300, Val Recall=0.9275\n",
      "Epoch 6: Train Loss=0.1971, Train Acc=0.9296, Train F1=0.9293,Train Precision=0.9292, Train Recall=0.9296\n",
      "           Val Loss=0.2287, Val Acc=0.9209, Val F1=0.9209, Val Precision=0.9231, Val Recall=0.9209\n",
      "Epoch 7: Train Loss=0.1797, Train Acc=0.9359, Train F1=0.9358,Train Precision=0.9357, Train Recall=0.9359\n",
      "           Val Loss=0.2159, Val Acc=0.9232, Val F1=0.9238, Val Precision=0.9259, Val Recall=0.9232\n",
      "Epoch 8: Train Loss=0.1619, Train Acc=0.9413, Train F1=0.9411,Train Precision=0.9410, Train Recall=0.9413\n",
      "           Val Loss=0.2301, Val Acc=0.9267, Val F1=0.9268, Val Precision=0.9285, Val Recall=0.9267\n",
      "Epoch 9: Train Loss=0.1484, Train Acc=0.9470, Train F1=0.9468,Train Precision=0.9467, Train Recall=0.9470\n",
      "           Val Loss=0.1990, Val Acc=0.9297, Val F1=0.9297, Val Precision=0.9305, Val Recall=0.9297\n",
      "Epoch 10: Train Loss=0.1283, Train Acc=0.9543, Train F1=0.9542,Train Precision=0.9541, Train Recall=0.9543\n",
      "           Val Loss=0.1930, Val Acc=0.9333, Val F1=0.9330, Val Precision=0.9334, Val Recall=0.9333\n",
      "Epoch 11: Train Loss=0.1178, Train Acc=0.9569, Train F1=0.9568,Train Precision=0.9568, Train Recall=0.9569\n",
      "           Val Loss=0.2033, Val Acc=0.9330, Val F1=0.9325, Val Precision=0.9333, Val Recall=0.9330\n",
      "Epoch 12: Train Loss=0.1026, Train Acc=0.9634, Train F1=0.9634,Train Precision=0.9634, Train Recall=0.9634\n",
      "           Val Loss=0.2022, Val Acc=0.9335, Val F1=0.9337, Val Precision=0.9345, Val Recall=0.9335\n",
      "Epoch 13: Train Loss=0.0929, Train Acc=0.9664, Train F1=0.9663,Train Precision=0.9663, Train Recall=0.9664\n",
      "           Val Loss=0.2144, Val Acc=0.9329, Val F1=0.9334, Val Precision=0.9347, Val Recall=0.9329\n",
      "Trained the model for one fold.\n",
      "Accuracy: 0.9328947368421052, F1 Score: 0.9334298194252787, Precision: 0.9346902141684221, Recall: 0.9328947368421052\n",
      "CPU times: total: 1h 45min 3s\n",
      "Wall time: 2h 56min 50s\n"
     ]
    }
   ],
   "source": [
    "%%time\n",
    "# best hyperparameter combination\n",
    "config = {\n",
    "    \"batch_size\": 32,\n",
    "    \"dropout\": 0.5,\n",
    "    \"epochs\": 13,\n",
    "    \"learning_rate\": 0.001,\n",
    "    \"freeze\": False\n",
    "}\n",
    "\n",
    "# perform cross-validation\n",
    "cv_results = train_cross_validation(config, device, train_labels, train_data)"
   ]
  },
  {
   "cell_type": "code",
   "execution_count": 7,
   "id": "a00f1e12-2667-4af3-bcd4-3e03236149d9",
   "metadata": {},
   "outputs": [
    {
     "data": {
      "text/html": [
       "<div>\n",
       "<style scoped>\n",
       "    .dataframe tbody tr th:only-of-type {\n",
       "        vertical-align: middle;\n",
       "    }\n",
       "\n",
       "    .dataframe tbody tr th {\n",
       "        vertical-align: top;\n",
       "    }\n",
       "\n",
       "    .dataframe thead th {\n",
       "        text-align: right;\n",
       "    }\n",
       "</style>\n",
       "<table border=\"1\" class=\"dataframe\">\n",
       "  <thead>\n",
       "    <tr style=\"text-align: right;\">\n",
       "      <th></th>\n",
       "      <th>Metric</th>\n",
       "      <th>Mean Value</th>\n",
       "    </tr>\n",
       "  </thead>\n",
       "  <tbody>\n",
       "    <tr>\n",
       "      <th>0</th>\n",
       "      <td>accuracy</td>\n",
       "      <td>0.933947</td>\n",
       "    </tr>\n",
       "    <tr>\n",
       "      <th>1</th>\n",
       "      <td>f1_score</td>\n",
       "      <td>0.934092</td>\n",
       "    </tr>\n",
       "    <tr>\n",
       "      <th>2</th>\n",
       "      <td>precision</td>\n",
       "      <td>0.935643</td>\n",
       "    </tr>\n",
       "    <tr>\n",
       "      <th>3</th>\n",
       "      <td>recall</td>\n",
       "      <td>0.933947</td>\n",
       "    </tr>\n",
       "  </tbody>\n",
       "</table>\n",
       "</div>"
      ],
      "text/plain": [
       "      Metric  Mean Value\n",
       "0   accuracy    0.933947\n",
       "1   f1_score    0.934092\n",
       "2  precision    0.935643\n",
       "3     recall    0.933947"
      ]
     },
     "execution_count": 7,
     "metadata": {},
     "output_type": "execute_result"
    }
   ],
   "source": [
    "# display cross validation results\n",
    "cv_results"
   ]
  },
  {
   "cell_type": "markdown",
   "id": "b5f37cba-e55e-42c0-b5f6-bc9a5faf6932",
   "metadata": {},
   "source": [
    "## 6. References\n",
    "\n",
    "Goodfellow, I., Bengio, Y., & Courville, A. (2016). _Deep learning. Adaptive Computation and Machine Learning_. The MIT Press. https://lccn.loc.gov/2016022992 "
   ]
  },
  {
   "cell_type": "code",
   "execution_count": null,
   "id": "64ed3b9e-931b-4d10-9dcd-280cc204d8ac",
   "metadata": {},
   "outputs": [],
   "source": []
  }
 ],
 "metadata": {
  "kernelspec": {
   "display_name": "Python 3 (ipykernel)",
   "language": "python",
   "name": "python3"
  },
  "language_info": {
   "codemirror_mode": {
    "name": "ipython",
    "version": 3
   },
   "file_extension": ".py",
   "mimetype": "text/x-python",
   "name": "python",
   "nbconvert_exporter": "python",
   "pygments_lexer": "ipython3",
   "version": "3.12.3"
  }
 },
 "nbformat": 4,
 "nbformat_minor": 5
}
