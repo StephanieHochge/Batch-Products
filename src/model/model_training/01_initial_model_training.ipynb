{
 "cells": [
  {
   "cell_type": "markdown",
   "id": "0e0d1b62-63b0-43f3-85f2-b6a66e1d1c19",
   "metadata": {},
   "source": [
    "# Train a First Model\n",
    "The aim of this notebook is to train a first model to predict the classes in the FashionMNIST dataset. Based on the results of the cross-validation, it will be decided whether hyperparameter tuning of the model parameters will be performed. The model is further refined with hyperparameter tuning if the average accuracy in the cross-validation is above 0.75. \n",
    "## 1. Imports"
   ]
  },
  {
   "cell_type": "code",
   "execution_count": 1,
   "id": "7d64e7d6-622e-44a5-92f5-ca5445a87049",
   "metadata": {},
   "outputs": [],
   "source": [
    "from sklearn.model_selection import train_test_split\n",
    "\n",
    "import torch\n",
    "from torch import optim\n",
    "from torchinfo import summary\n",
    "\n",
    "from utils.model import get_model\n",
    "from utils.train import train_cross_validation"
   ]
  },
  {
   "cell_type": "markdown",
   "id": "96f83c2a-8afd-41b7-851b-39362a287910",
   "metadata": {},
   "source": [
    "## 2. Load Training Data"
   ]
  },
  {
   "cell_type": "code",
   "execution_count": 2,
   "id": "aef186c7-c6cc-4230-8fbf-6aa6401b7a6f",
   "metadata": {},
   "outputs": [
    {
     "name": "stdout",
     "output_type": "stream",
     "text": [
      "CPU times: total: 12.3 s\n",
      "Wall time: 16.2 s\n"
     ]
    }
   ],
   "source": [
    "%%time\n",
    "# load data and labels\n",
    "data, labels = torch.load(\"data/fashion_mnist_dataset.pt\", weights_only=False)"
   ]
  },
  {
   "cell_type": "code",
   "execution_count": 3,
   "id": "2d23fc0d-dd7b-4bdd-a8dd-01ae8a4fe44e",
   "metadata": {},
   "outputs": [
    {
     "name": "stdout",
     "output_type": "stream",
     "text": [
      "Size of the training set before performing cross validation: 12000\n",
      "CPU times: total: 31.2 ms\n",
      "Wall time: 55.3 ms\n"
     ]
    }
   ],
   "source": [
    "%%time\n",
    "# perform a train-test split to use 20% of the training data for initial training to get some first results (ensuring a balanced label distribution)\n",
    "train_data, later_data, train_labels, later_labels = train_test_split(\n",
    "    data, labels, test_size=0.8, stratify=labels, random_state=42\n",
    ")\n",
    "\n",
    "print(f\"Size of the training set before performing cross validation: {len(train_data)}\")"
   ]
  },
  {
   "cell_type": "markdown",
   "id": "86dea0e9-5666-4e35-9538-b1a6e9f927e5",
   "metadata": {},
   "source": [
    "## 3. Model Training"
   ]
  },
  {
   "cell_type": "code",
   "execution_count": 4,
   "id": "370a7843-bb03-4003-a3f6-cf6ad36e65a2",
   "metadata": {},
   "outputs": [
    {
     "data": {
      "text/plain": [
       "device(type='cuda')"
      ]
     },
     "execution_count": 4,
     "metadata": {},
     "output_type": "execute_result"
    }
   ],
   "source": [
    "# setup device-agnostic code\n",
    "device = torch.device(\"cuda\" if torch.cuda.is_available() else \"cpu\")\n",
    "device"
   ]
  },
  {
   "cell_type": "code",
   "execution_count": 5,
   "id": "ad3a0d9c-a2ae-47f7-be01-3c58e2670bc6",
   "metadata": {},
   "outputs": [
    {
     "data": {
      "text/plain": [
       "============================================================================================================================================\n",
       "Layer (type (var_name))                                      Input Shape          Output Shape         Param #              Trainable\n",
       "============================================================================================================================================\n",
       "EfficientNet (EfficientNet)                                  [64, 1, 224, 224]    [64, 10]             --                   True\n",
       "├─Sequential (features)                                      [64, 1, 224, 224]    [64, 1280, 7, 7]     --                   True\n",
       "│    └─Conv2dNormActivation (0)                              [64, 1, 224, 224]    [64, 32, 112, 112]   --                   True\n",
       "│    │    └─Conv2d (0)                                       [64, 1, 224, 224]    [64, 32, 112, 112]   288                  True\n",
       "│    │    └─BatchNorm2d (1)                                  [64, 32, 112, 112]   [64, 32, 112, 112]   64                   True\n",
       "│    │    └─SiLU (2)                                         [64, 32, 112, 112]   [64, 32, 112, 112]   --                   --\n",
       "│    └─Sequential (1)                                        [64, 32, 112, 112]   [64, 16, 112, 112]   --                   True\n",
       "│    │    └─MBConv (0)                                       [64, 32, 112, 112]   [64, 16, 112, 112]   1,448                True\n",
       "│    └─Sequential (2)                                        [64, 16, 112, 112]   [64, 24, 56, 56]     --                   True\n",
       "│    │    └─MBConv (0)                                       [64, 16, 112, 112]   [64, 24, 56, 56]     6,004                True\n",
       "│    │    └─MBConv (1)                                       [64, 24, 56, 56]     [64, 24, 56, 56]     10,710               True\n",
       "│    └─Sequential (3)                                        [64, 24, 56, 56]     [64, 40, 28, 28]     --                   True\n",
       "│    │    └─MBConv (0)                                       [64, 24, 56, 56]     [64, 40, 28, 28]     15,350               True\n",
       "│    │    └─MBConv (1)                                       [64, 40, 28, 28]     [64, 40, 28, 28]     31,290               True\n",
       "│    └─Sequential (4)                                        [64, 40, 28, 28]     [64, 80, 14, 14]     --                   True\n",
       "│    │    └─MBConv (0)                                       [64, 40, 28, 28]     [64, 80, 14, 14]     37,130               True\n",
       "│    │    └─MBConv (1)                                       [64, 80, 14, 14]     [64, 80, 14, 14]     102,900              True\n",
       "│    │    └─MBConv (2)                                       [64, 80, 14, 14]     [64, 80, 14, 14]     102,900              True\n",
       "│    └─Sequential (5)                                        [64, 80, 14, 14]     [64, 112, 14, 14]    --                   True\n",
       "│    │    └─MBConv (0)                                       [64, 80, 14, 14]     [64, 112, 14, 14]    126,004              True\n",
       "│    │    └─MBConv (1)                                       [64, 112, 14, 14]    [64, 112, 14, 14]    208,572              True\n",
       "│    │    └─MBConv (2)                                       [64, 112, 14, 14]    [64, 112, 14, 14]    208,572              True\n",
       "│    └─Sequential (6)                                        [64, 112, 14, 14]    [64, 192, 7, 7]      --                   True\n",
       "│    │    └─MBConv (0)                                       [64, 112, 14, 14]    [64, 192, 7, 7]      262,492              True\n",
       "│    │    └─MBConv (1)                                       [64, 192, 7, 7]      [64, 192, 7, 7]      587,952              True\n",
       "│    │    └─MBConv (2)                                       [64, 192, 7, 7]      [64, 192, 7, 7]      587,952              True\n",
       "│    │    └─MBConv (3)                                       [64, 192, 7, 7]      [64, 192, 7, 7]      587,952              True\n",
       "│    └─Sequential (7)                                        [64, 192, 7, 7]      [64, 320, 7, 7]      --                   True\n",
       "│    │    └─MBConv (0)                                       [64, 192, 7, 7]      [64, 320, 7, 7]      717,232              True\n",
       "│    └─Conv2dNormActivation (8)                              [64, 320, 7, 7]      [64, 1280, 7, 7]     --                   True\n",
       "│    │    └─Conv2d (0)                                       [64, 320, 7, 7]      [64, 1280, 7, 7]     409,600              True\n",
       "│    │    └─BatchNorm2d (1)                                  [64, 1280, 7, 7]     [64, 1280, 7, 7]     2,560                True\n",
       "│    │    └─SiLU (2)                                         [64, 1280, 7, 7]     [64, 1280, 7, 7]     --                   --\n",
       "├─AdaptiveAvgPool2d (avgpool)                                [64, 1280, 7, 7]     [64, 1280, 1, 1]     --                   --\n",
       "├─Sequential (classifier)                                    [64, 1280]           [64, 10]             --                   True\n",
       "│    └─Dropout (0)                                           [64, 1280]           [64, 1280]           --                   --\n",
       "│    └─Sequential (1)                                        [64, 1280]           [64, 10]             --                   True\n",
       "│    │    └─Dropout (0)                                      [64, 1280]           [64, 1280]           --                   --\n",
       "│    │    └─Linear (1)                                       [64, 1280]           [64, 10]             12,810               True\n",
       "============================================================================================================================================\n",
       "Total params: 4,019,782\n",
       "Trainable params: 4,019,782\n",
       "Non-trainable params: 0\n",
       "Total mult-adds (Units.GIGABYTES): 24.15\n",
       "============================================================================================================================================\n",
       "Input size (MB): 12.85\n",
       "Forward/backward pass size (MB): 6904.19\n",
       "Params size (MB): 16.08\n",
       "Estimated Total Size (MB): 6933.11\n",
       "============================================================================================================================================"
      ]
     },
     "execution_count": 5,
     "metadata": {},
     "output_type": "execute_result"
    }
   ],
   "source": [
    "# get model\n",
    "model = get_model(device, dropout_rate=0, freeze=False)\n",
    "summary(model=model,\n",
    "        input_size=(64, 1, 224, 224),\n",
    "        col_names=[\"input_size\", \"output_size\", \"num_params\", \"trainable\"],\n",
    "        col_width=20,\n",
    "        row_settings=[\"var_names\"])"
   ]
  },
  {
   "cell_type": "code",
   "execution_count": 6,
   "id": "b5beea18-861c-4a7a-a792-4856b8c93b2f",
   "metadata": {},
   "outputs": [
    {
     "name": "stdout",
     "output_type": "stream",
     "text": [
      "-----------------------------------\n",
      "Training using config: {'batch_size': 64, 'dropout': 0, 'epochs': 5, 'learning_rate': 0.001, 'freeze': False}\n",
      "--------------Fold 1----------------\n"
     ]
    },
    {
     "data": {
      "application/vnd.jupyter.widget-view+json": {
       "model_id": "e3b07a571e474032b505aacab880fb21",
       "version_major": 2,
       "version_minor": 0
      },
      "text/plain": [
       "  0%|          | 0/5 [00:00<?, ?it/s]"
      ]
     },
     "metadata": {},
     "output_type": "display_data"
    },
    {
     "name": "stdout",
     "output_type": "stream",
     "text": [
      "Epoch 1: Train Loss=0.9443, Train Acc=0.6465, Train F1=0.6394,Train Precision=0.6371, Train Recall=0.6465\n",
      "           Val Loss=0.7341, Val Acc=0.7467, Val F1=0.7431, Val Precision=0.7532, Val Recall=0.7467\n",
      "Epoch 2: Train Loss=0.5463, Train Acc=0.7984, Train F1=0.7941,Train Precision=0.7929, Train Recall=0.7984\n",
      "           Val Loss=0.4594, Val Acc=0.8271, Val F1=0.8268, Val Precision=0.8359, Val Recall=0.8271\n",
      "Epoch 3: Train Loss=0.4174, Train Acc=0.8484, Train F1=0.8462,Train Precision=0.8456, Train Recall=0.8484\n",
      "           Val Loss=0.3636, Val Acc=0.8608, Val F1=0.8592, Val Precision=0.8647, Val Recall=0.8608\n",
      "Epoch 4: Train Loss=0.3579, Train Acc=0.8690, Train F1=0.8676,Train Precision=0.8671, Train Recall=0.8690\n",
      "           Val Loss=0.3983, Val Acc=0.8617, Val F1=0.8604, Val Precision=0.8681, Val Recall=0.8617\n",
      "Epoch 5: Train Loss=0.3054, Train Acc=0.8882, Train F1=0.8874,Train Precision=0.8869, Train Recall=0.8882\n",
      "           Val Loss=0.3958, Val Acc=0.8546, Val F1=0.8575, Val Precision=0.8813, Val Recall=0.8546\n",
      "Trained the model for one fold.\n",
      "Accuracy: 0.8545833333333334, F1 Score: 0.8575427748613401, Precision: 0.881340886725839, Recall: 0.8545833333333334\n",
      "--------------Fold 2----------------\n"
     ]
    },
    {
     "data": {
      "application/vnd.jupyter.widget-view+json": {
       "model_id": "bc4bc583bfcd4aaa8763164a411c945d",
       "version_major": 2,
       "version_minor": 0
      },
      "text/plain": [
       "  0%|          | 0/5 [00:00<?, ?it/s]"
      ]
     },
     "metadata": {},
     "output_type": "display_data"
    },
    {
     "name": "stdout",
     "output_type": "stream",
     "text": [
      "Epoch 1: Train Loss=0.9879, Train Acc=0.6312, Train F1=0.6244,Train Precision=0.6207, Train Recall=0.6312\n",
      "           Val Loss=0.7336, Val Acc=0.7296, Val F1=0.6964, Val Precision=0.7546, Val Recall=0.7296\n",
      "Epoch 2: Train Loss=0.5497, Train Acc=0.7925, Train F1=0.7875,Train Precision=0.7876, Train Recall=0.7925\n",
      "           Val Loss=0.6467, Val Acc=0.7754, Val F1=0.7656, Val Precision=0.7994, Val Recall=0.7754\n",
      "Epoch 3: Train Loss=0.4318, Train Acc=0.8445, Train F1=0.8422,Train Precision=0.8418, Train Recall=0.8445\n",
      "           Val Loss=0.3946, Val Acc=0.8667, Val F1=0.8649, Val Precision=0.8760, Val Recall=0.8667\n",
      "Epoch 4: Train Loss=0.3647, Train Acc=0.8670, Train F1=0.8656,Train Precision=0.8651, Train Recall=0.8670\n",
      "           Val Loss=0.8044, Val Acc=0.7458, Val F1=0.7429, Val Precision=0.8099, Val Recall=0.7458\n",
      "Epoch 5: Train Loss=0.3255, Train Acc=0.8800, Train F1=0.8793,Train Precision=0.8788, Train Recall=0.8800\n",
      "           Val Loss=0.8254, Val Acc=0.7425, Val F1=0.7347, Val Precision=0.8131, Val Recall=0.7425\n",
      "Trained the model for one fold.\n",
      "Accuracy: 0.7425, F1 Score: 0.7346948788722087, Precision: 0.8130538633606745, Recall: 0.7425\n",
      "--------------Fold 3----------------\n"
     ]
    },
    {
     "data": {
      "application/vnd.jupyter.widget-view+json": {
       "model_id": "948844ac03e944a2bdbfd04eee29e438",
       "version_major": 2,
       "version_minor": 0
      },
      "text/plain": [
       "  0%|          | 0/5 [00:00<?, ?it/s]"
      ]
     },
     "metadata": {},
     "output_type": "display_data"
    },
    {
     "name": "stdout",
     "output_type": "stream",
     "text": [
      "Epoch 1: Train Loss=0.9631, Train Acc=0.6297, Train F1=0.6251,Train Precision=0.6227, Train Recall=0.6297\n",
      "           Val Loss=0.6190, Val Acc=0.7833, Val F1=0.7765, Val Precision=0.7859, Val Recall=0.7833\n",
      "Epoch 2: Train Loss=0.5296, Train Acc=0.8077, Train F1=0.8051,Train Precision=0.8043, Train Recall=0.8077\n",
      "           Val Loss=0.5112, Val Acc=0.7783, Val F1=0.7538, Val Precision=0.8071, Val Recall=0.7783\n",
      "Epoch 3: Train Loss=0.4457, Train Acc=0.8396, Train F1=0.8383,Train Precision=0.8377, Train Recall=0.8396\n",
      "           Val Loss=0.4156, Val Acc=0.8483, Val F1=0.8447, Val Precision=0.8535, Val Recall=0.8483\n",
      "Epoch 4: Train Loss=0.3700, Train Acc=0.8640, Train F1=0.8630,Train Precision=0.8627, Train Recall=0.8640\n",
      "           Val Loss=1.1064, Val Acc=0.5942, Val F1=0.5983, Val Precision=0.7036, Val Recall=0.5942\n",
      "Epoch 5: Train Loss=0.3230, Train Acc=0.8835, Train F1=0.8829,Train Precision=0.8826, Train Recall=0.8835\n",
      "           Val Loss=0.3099, Val Acc=0.8858, Val F1=0.8871, Val Precision=0.8903, Val Recall=0.8858\n",
      "Trained the model for one fold.\n",
      "Accuracy: 0.8858333333333334, F1 Score: 0.8871492896421751, Precision: 0.8902962048033489, Recall: 0.8858333333333334\n",
      "--------------Fold 4----------------\n"
     ]
    },
    {
     "data": {
      "application/vnd.jupyter.widget-view+json": {
       "model_id": "821d3279a89c466a9d7ce0b50ca29caa",
       "version_major": 2,
       "version_minor": 0
      },
      "text/plain": [
       "  0%|          | 0/5 [00:00<?, ?it/s]"
      ]
     },
     "metadata": {},
     "output_type": "display_data"
    },
    {
     "name": "stdout",
     "output_type": "stream",
     "text": [
      "Epoch 1: Train Loss=0.9684, Train Acc=0.6385, Train F1=0.6316,Train Precision=0.6295, Train Recall=0.6385\n",
      "           Val Loss=0.8690, Val Acc=0.7096, Val F1=0.7115, Val Precision=0.7565, Val Recall=0.7096\n",
      "Epoch 2: Train Loss=0.5444, Train Acc=0.8007, Train F1=0.7961,Train Precision=0.7959, Train Recall=0.8007\n",
      "           Val Loss=0.4448, Val Acc=0.8246, Val F1=0.8090, Val Precision=0.8345, Val Recall=0.8246\n",
      "Epoch 3: Train Loss=0.4289, Train Acc=0.8431, Train F1=0.8406,Train Precision=0.8403, Train Recall=0.8431\n",
      "           Val Loss=0.3818, Val Acc=0.8529, Val F1=0.8514, Val Precision=0.8621, Val Recall=0.8529\n",
      "Epoch 4: Train Loss=0.3598, Train Acc=0.8684, Train F1=0.8671,Train Precision=0.8667, Train Recall=0.8684\n",
      "           Val Loss=0.3436, Val Acc=0.8746, Val F1=0.8743, Val Precision=0.8762, Val Recall=0.8746\n",
      "Epoch 5: Train Loss=0.3194, Train Acc=0.8857, Train F1=0.8850,Train Precision=0.8847, Train Recall=0.8857\n",
      "           Val Loss=0.3455, Val Acc=0.8683, Val F1=0.8640, Val Precision=0.8748, Val Recall=0.8683\n",
      "Trained the model for one fold.\n",
      "Accuracy: 0.8683333333333333, F1 Score: 0.8640020670967203, Precision: 0.8748142616223489, Recall: 0.8683333333333333\n",
      "--------------Fold 5----------------\n"
     ]
    },
    {
     "data": {
      "application/vnd.jupyter.widget-view+json": {
       "model_id": "59e4183f95b9449f92065e196ec9ed2d",
       "version_major": 2,
       "version_minor": 0
      },
      "text/plain": [
       "  0%|          | 0/5 [00:00<?, ?it/s]"
      ]
     },
     "metadata": {},
     "output_type": "display_data"
    },
    {
     "name": "stdout",
     "output_type": "stream",
     "text": [
      "Epoch 1: Train Loss=0.9714, Train Acc=0.6388, Train F1=0.6318,Train Precision=0.6299, Train Recall=0.6388\n",
      "           Val Loss=0.6093, Val Acc=0.7712, Val F1=0.7612, Val Precision=0.7837, Val Recall=0.7712\n",
      "Epoch 2: Train Loss=0.5206, Train Acc=0.8093, Train F1=0.8055,Train Precision=0.8056, Train Recall=0.8093\n",
      "           Val Loss=0.4282, Val Acc=0.8342, Val F1=0.8331, Val Precision=0.8522, Val Recall=0.8342\n",
      "Epoch 3: Train Loss=0.4022, Train Acc=0.8554, Train F1=0.8540,Train Precision=0.8534, Train Recall=0.8554\n",
      "           Val Loss=0.4139, Val Acc=0.8496, Val F1=0.8449, Val Precision=0.8597, Val Recall=0.8496\n",
      "Epoch 4: Train Loss=0.3381, Train Acc=0.8790, Train F1=0.8781,Train Precision=0.8779, Train Recall=0.8790\n",
      "           Val Loss=0.3676, Val Acc=0.8675, Val F1=0.8644, Val Precision=0.8726, Val Recall=0.8675\n",
      "Epoch 5: Train Loss=0.3016, Train Acc=0.8897, Train F1=0.8893,Train Precision=0.8891, Train Recall=0.8897\n",
      "           Val Loss=0.3522, Val Acc=0.8771, Val F1=0.8780, Val Precision=0.8887, Val Recall=0.8771\n",
      "Trained the model for one fold.\n",
      "Accuracy: 0.8770833333333333, F1 Score: 0.8779694632255126, Precision: 0.8886912625694218, Recall: 0.8770833333333333\n",
      "CPU times: total: 10min 55s\n",
      "Wall time: 14min 45s\n"
     ]
    }
   ],
   "source": [
    "%%time\n",
    "# define hyperparameter combination for a first training run\n",
    "config = {\n",
    "    \"batch_size\": 64,\n",
    "    \"dropout\": 0,\n",
    "    \"epochs\": 5,\n",
    "    \"learning_rate\": 0.001,\n",
    "    \"freeze\": False\n",
    "}\n",
    "\n",
    "# perform cross-validation\n",
    "cv_results = train_cross_validation(config, device, train_labels, train_data)"
   ]
  },
  {
   "cell_type": "code",
   "execution_count": 7,
   "id": "4ca97072-591d-4151-9efa-347ffbe90a27",
   "metadata": {},
   "outputs": [
    {
     "data": {
      "text/html": [
       "<div>\n",
       "<style scoped>\n",
       "    .dataframe tbody tr th:only-of-type {\n",
       "        vertical-align: middle;\n",
       "    }\n",
       "\n",
       "    .dataframe tbody tr th {\n",
       "        vertical-align: top;\n",
       "    }\n",
       "\n",
       "    .dataframe thead th {\n",
       "        text-align: right;\n",
       "    }\n",
       "</style>\n",
       "<table border=\"1\" class=\"dataframe\">\n",
       "  <thead>\n",
       "    <tr style=\"text-align: right;\">\n",
       "      <th></th>\n",
       "      <th>Metric</th>\n",
       "      <th>Mean Value</th>\n",
       "    </tr>\n",
       "  </thead>\n",
       "  <tbody>\n",
       "    <tr>\n",
       "      <th>0</th>\n",
       "      <td>accuracy</td>\n",
       "      <td>0.845667</td>\n",
       "    </tr>\n",
       "    <tr>\n",
       "      <th>1</th>\n",
       "      <td>f1_score</td>\n",
       "      <td>0.844272</td>\n",
       "    </tr>\n",
       "    <tr>\n",
       "      <th>2</th>\n",
       "      <td>precision</td>\n",
       "      <td>0.869639</td>\n",
       "    </tr>\n",
       "    <tr>\n",
       "      <th>3</th>\n",
       "      <td>recall</td>\n",
       "      <td>0.845667</td>\n",
       "    </tr>\n",
       "  </tbody>\n",
       "</table>\n",
       "</div>"
      ],
      "text/plain": [
       "      Metric  Mean Value\n",
       "0   accuracy    0.845667\n",
       "1   f1_score    0.844272\n",
       "2  precision    0.869639\n",
       "3     recall    0.845667"
      ]
     },
     "execution_count": 7,
     "metadata": {},
     "output_type": "execute_result"
    }
   ],
   "source": [
    "# display cross validation results\n",
    "cv_results"
   ]
  },
  {
   "cell_type": "markdown",
   "id": "cc70abe3-6e45-435e-ae55-6dbb84233fd0",
   "metadata": {},
   "source": [
    "As the results look promising, the next step is to carry out hyperparameter tuning for the EfficientNet model. "
   ]
  },
  {
   "cell_type": "code",
   "execution_count": null,
   "id": "9cac6f3d-2553-457c-890b-f1cdbf767482",
   "metadata": {},
   "outputs": [],
   "source": []
  }
 ],
 "metadata": {
  "kernelspec": {
   "display_name": "Python 3 (ipykernel)",
   "language": "python",
   "name": "python3"
  },
  "language_info": {
   "codemirror_mode": {
    "name": "ipython",
    "version": 3
   },
   "file_extension": ".py",
   "mimetype": "text/x-python",
   "name": "python",
   "nbconvert_exporter": "python",
   "pygments_lexer": "ipython3",
   "version": "3.12.3"
  }
 },
 "nbformat": 4,
 "nbformat_minor": 5
}
